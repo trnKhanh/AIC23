{
 "cells": [
  {
   "cell_type": "markdown",
   "id": "3af8430d-e454-46ea-94f9-8e3dffeff4d7",
   "metadata": {},
   "source": [
    "# AIC23"
   ]
  },
  {
   "cell_type": "markdown",
   "id": "82b1c0f1-3534-4ac8-a8ad-4ab73a23543d",
   "metadata": {},
   "source": [
    "Load dataset and launch app"
   ]
  },
  {
   "cell_type": "code",
   "execution_count": 1,
   "id": "fda834fa-32bf-415f-a5e4-5f575bd695f1",
   "metadata": {
    "scrolled": true
   },
   "outputs": [
    {
     "name": "stdout",
     "output_type": "stream",
     "text": []
    },
    {
     "name": "stdout",
     "output_type": "stream",
     "text": [
      " 100% |█████████████| 72410/72410 [6.1s elapsed, 0s remaining, 11.9K samples/s]      \n"
     ]
    },
    {
     "data": {
      "text/html": [
       "\n",
       "        <iframe\n",
       "            width=\"100%\"\n",
       "            height=\"800\"\n",
       "            src=\"http://localhost:5151/?notebook=True&subscription=8883e109-e949-47be-89c6-c82b95ca74ca\"\n",
       "            frameborder=\"0\"\n",
       "            allowfullscreen\n",
       "            \n",
       "        ></iframe>\n",
       "        "
      ],
      "text/plain": [
       "<IPython.lib.display.IFrame at 0x28f4fe5c0>"
      ]
     },
     "metadata": {},
     "output_type": "display_data"
    },
    {
     "name": "stdout",
     "output_type": "stream",
     "text": [
      "Notebook sessions cannot wait\n"
     ]
    }
   ],
   "source": [
    "import fiftyone as fo\n",
    "import fiftyone.zoo as foz\n",
    "import fiftyone.brain as fob\n",
    "import numpy as np\n",
    "\n",
    "dataset = fo.Dataset.from_images_patt(\"./data/keyframes/*/*.jpg\", name=None, tags=None)\n",
    "session = fo.launch_app(dataset, desktop=False)\n",
    "session.wait()"
   ]
  },
  {
   "cell_type": "code",
   "execution_count": 2,
   "id": "2a108acd-a4d3-4058-97e1-8eb4f678c9c9",
   "metadata": {
    "scrolled": true
   },
   "outputs": [],
   "source": [
    "import os\n",
    "import csv\n",
    "import pandas as pd\n",
    "\n",
    "info = dict()\n",
    "for file in os.scandir(\"map-keyframes\"):\n",
    "    if file.name[0] == '.':\n",
    "        continue\n",
    "    videoId = file.name.split(\".\")[0]\n",
    "    data = pd.read_csv(file.path)\n",
    "    info[videoId] = data.to_dict()"
   ]
  },
  {
   "cell_type": "code",
   "execution_count": 3,
   "id": "e877cb1b-af1e-4871-b8fb-b877568e7714",
   "metadata": {},
   "outputs": [],
   "source": [
    "import json\n",
    "\n",
    "for sample in dataset:\n",
    "    if \"checkpoint\" in sample[\"filepath\"]:\n",
    "        continue;\n",
    "    videoId, frameId = sample[\"filepath\"].split(\"/\")[-2:]\n",
    "    videoId = videoId.split(\".\")[0]\n",
    "    frameId = frameId.split(\".\")[0]\n",
    "    object_file = f\"./objects/{videoId}/{frameId}.json\"\n",
    "    frameId = int(frameId)\n",
    "    sample[\"videoId\"] = videoId\n",
    "    sample[\"n\"] = str(info[videoId]['n'][frameId-1])\n",
    "    sample[\"frameId\"] = str(info[videoId]['frame_idx'][frameId-1])\n",
    "    sample[\"pts_time\"] = str(info[videoId]['pts_time'][frameId-1])\n",
    "\n",
    "    f = open(object_file)\n",
    "    data = json.load(f)\n",
    "    detections = []\n",
    "    for id in range(len(data[\"detection_class_entities\"])):\n",
    "        if float(data[\"detection_scores\"][id]) < 0.5:\n",
    "            continue;\n",
    "        detections.append(\n",
    "            fo.Detection(\n",
    "                label=data[\"detection_class_entities\"][id],\n",
    "                bounding_box=data[\"detection_boxes\"][id],\n",
    "                confidence=data[\"detection_scores\"][id],\n",
    "            )\n",
    "        )\n",
    "    sample[\"prediction\"] = fo.Detections(detections=detections)\n",
    "    sample.save()"
   ]
  },
  {
   "cell_type": "markdown",
   "id": "6f7bfce4-c83e-43b3-8ec3-8e4ea3626d19",
   "metadata": {},
   "source": [
    "### Embeddings of videos are provided "
   ]
  },
  {
   "cell_type": "markdown",
   "id": "0dde3640-040f-431e-bd84-86b438caf2bc",
   "metadata": {},
   "source": [
    "Compute embeddings (if not provided)"
   ]
  },
  {
   "cell_type": "code",
   "execution_count": null,
   "id": "33456091-14eb-45e8-841e-2162d6e06a00",
   "metadata": {},
   "outputs": [],
   "source": [
    "model = foz.load_zoo_model(\"clip-vit-base32-torch\")\n",
    "embeddings = dataset.compute_embeddings(model)\n",
    "with open(\"./embeddings/keyframes.npy\", \"wb\") as f:\n",
    "    np.save(f, embeddings);"
   ]
  },
  {
   "cell_type": "markdown",
   "id": "c0257963-2b05-4fcf-b829-7d28f5c80f0e",
   "metadata": {},
   "source": [
    "Load embeddings"
   ]
  },
  {
   "cell_type": "code",
   "execution_count": 4,
   "id": "3ed27fee-ed40-425f-8f6b-5e0bcfb131bc",
   "metadata": {},
   "outputs": [],
   "source": [
    "embeddings = np.load(\"./embeddings/keyframes.npy\")"
   ]
  },
  {
   "cell_type": "markdown",
   "id": "23470fa8-c3f6-40cf-99f8-ac1adaa63b98",
   "metadata": {},
   "source": [
    "Compute visualization using embeddings"
   ]
  },
  {
   "cell_type": "code",
   "execution_count": 5,
   "id": "f5e7c0c5-d5c3-431d-9ca6-de4ef6e160e2",
   "metadata": {
    "scrolled": true
   },
   "outputs": [
    {
     "name": "stdout",
     "output_type": "stream",
     "text": [
      "Generating visualization...\n"
     ]
    },
    {
     "name": "stderr",
     "output_type": "stream",
     "text": [
      "/Users/namkhanhtran/programming/repo/AIC23/env/lib/python3.10/site-packages/umap/distances.py:1063: NumbaDeprecationWarning: The 'nopython' keyword argument was not supplied to the 'numba.jit' decorator. The implicit default value for this argument is currently False, but it will be changed to True in Numba 0.59.0. See https://numba.readthedocs.io/en/stable/reference/deprecation.html#deprecation-of-object-mode-fall-back-behaviour-when-using-jit for details.\n",
      "  @numba.jit()\n",
      "/Users/namkhanhtran/programming/repo/AIC23/env/lib/python3.10/site-packages/umap/distances.py:1071: NumbaDeprecationWarning: The 'nopython' keyword argument was not supplied to the 'numba.jit' decorator. The implicit default value for this argument is currently False, but it will be changed to True in Numba 0.59.0. See https://numba.readthedocs.io/en/stable/reference/deprecation.html#deprecation-of-object-mode-fall-back-behaviour-when-using-jit for details.\n",
      "  @numba.jit()\n",
      "/Users/namkhanhtran/programming/repo/AIC23/env/lib/python3.10/site-packages/umap/distances.py:1086: NumbaDeprecationWarning: The 'nopython' keyword argument was not supplied to the 'numba.jit' decorator. The implicit default value for this argument is currently False, but it will be changed to True in Numba 0.59.0. See https://numba.readthedocs.io/en/stable/reference/deprecation.html#deprecation-of-object-mode-fall-back-behaviour-when-using-jit for details.\n",
      "  @numba.jit()\n",
      "/Users/namkhanhtran/programming/repo/AIC23/env/lib/python3.10/site-packages/tqdm/auto.py:21: TqdmWarning: IProgress not found. Please update jupyter and ipywidgets. See https://ipywidgets.readthedocs.io/en/stable/user_install.html\n",
      "  from .autonotebook import tqdm as notebook_tqdm\n",
      "/Users/namkhanhtran/programming/repo/AIC23/env/lib/python3.10/site-packages/umap/umap_.py:660: NumbaDeprecationWarning: The 'nopython' keyword argument was not supplied to the 'numba.jit' decorator. The implicit default value for this argument is currently False, but it will be changed to True in Numba 0.59.0. See https://numba.readthedocs.io/en/stable/reference/deprecation.html#deprecation-of-object-mode-fall-back-behaviour-when-using-jit for details.\n",
      "  @numba.jit()\n",
      "OMP: Info #276: omp_set_nested routine deprecated, please use omp_set_max_active_levels instead.\n"
     ]
    },
    {
     "name": "stdout",
     "output_type": "stream",
     "text": [
      "UMAP(random_state=51, verbose=True)\n",
      "Thu Sep 28 13:09:18 2023 Construct fuzzy simplicial set\n",
      "Thu Sep 28 13:09:18 2023 Finding Nearest Neighbors\n",
      "Thu Sep 28 13:09:18 2023 Building RP forest with 18 trees\n",
      "Thu Sep 28 13:09:20 2023 NN descent for 16 iterations\n",
      "\t 1  /  16\n",
      "\t 2  /  16\n",
      "\t 3  /  16\n",
      "\t 4  /  16\n",
      "\t 5  /  16\n",
      "\tStopping threshold met -- exiting after 5 iterations\n",
      "Thu Sep 28 13:09:26 2023 Finished Nearest Neighbor Search\n",
      "Thu Sep 28 13:09:27 2023 Construct embedding\n"
     ]
    },
    {
     "name": "stderr",
     "output_type": "stream",
     "text": [
      "Epochs completed: 100%| █████████████████████████████████████████████████████████████████████████████████████ 200/200 [00:27]\n"
     ]
    },
    {
     "name": "stdout",
     "output_type": "stream",
     "text": [
      "Thu Sep 28 13:10:05 2023 Finished embedding\n"
     ]
    }
   ],
   "source": [
    "results = fob.compute_visualization(\n",
    "    dataset, \n",
    "    embeddings=embeddings, \n",
    "    seed=51, \n",
    "    brain_key=\"img_viz\"\n",
    ")"
   ]
  },
  {
   "cell_type": "markdown",
   "id": "efe64839-1695-433a-9140-753c4460944e",
   "metadata": {},
   "source": [
    "Compute similarity (used to sort by similarity or query by text)"
   ]
  },
  {
   "cell_type": "code",
   "execution_count": 6,
   "id": "add4766d-c206-4a92-9e00-1a270d9706e2",
   "metadata": {
    "scrolled": true
   },
   "outputs": [],
   "source": [
    "image_index = fob.compute_similarity(\n",
    "    dataset,\n",
    "    model=\"clip-vit-base32-torch\", \n",
    "    embeddings=embeddings,       \n",
    "    brain_key=\"img_sim\",\n",
    ")"
   ]
  },
  {
   "cell_type": "code",
   "execution_count": null,
   "id": "e9f87b9e-6d06-40ba-b6e2-e0a0b142040f",
   "metadata": {},
   "outputs": [],
   "source": []
  }
 ],
 "metadata": {
  "kernelspec": {
   "display_name": "Python 3 (ipykernel)",
   "language": "python",
   "name": "python3"
  },
  "language_info": {
   "codemirror_mode": {
    "name": "ipython",
    "version": 3
   },
   "file_extension": ".py",
   "mimetype": "text/x-python",
   "name": "python",
   "nbconvert_exporter": "python",
   "pygments_lexer": "ipython3",
   "version": "3.10.12"
  }
 },
 "nbformat": 4,
 "nbformat_minor": 5
}
