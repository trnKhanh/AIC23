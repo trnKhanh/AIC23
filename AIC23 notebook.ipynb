{
 "cells": [
  {
   "cell_type": "markdown",
   "id": "3af8430d-e454-46ea-94f9-8e3dffeff4d7",
   "metadata": {},
   "source": [
    "# AIC23"
   ]
  },
  {
   "cell_type": "markdown",
   "id": "82b1c0f1-3534-4ac8-a8ad-4ab73a23543d",
   "metadata": {},
   "source": [
    "Load dataset and launch app"
   ]
  },
  {
   "cell_type": "code",
   "execution_count": 1,
   "id": "fda834fa-32bf-415f-a5e4-5f575bd695f1",
   "metadata": {
    "scrolled": true
   },
   "outputs": [
    {
     "name": "stdout",
     "output_type": "stream",
     "text": []
    },
    {
     "name": "stdout",
     "output_type": "stream",
     "text": [
      " 100% |█████████████| 72410/72410 [5.1s elapsed, 0s remaining, 14.5K samples/s]      \n"
     ]
    },
    {
     "data": {
      "text/html": [
       "\n",
       "        <iframe\n",
       "            width=\"100%\"\n",
       "            height=\"800\"\n",
       "            src=\"http://localhost:5151/?notebook=True&subscription=a0ae5942-46c8-4707-945f-c934f0f538be\"\n",
       "            frameborder=\"0\"\n",
       "            allowfullscreen\n",
       "            \n",
       "        ></iframe>\n",
       "        "
      ],
      "text/plain": [
       "<IPython.lib.display.IFrame at 0x28c028160>"
      ]
     },
     "metadata": {},
     "output_type": "display_data"
    },
    {
     "name": "stdout",
     "output_type": "stream",
     "text": [
      "Notebook sessions cannot wait\n"
     ]
    }
   ],
   "source": [
    "import fiftyone as fo\n",
    "import fiftyone.zoo as foz\n",
    "import fiftyone.brain as fob\n",
    "import numpy as np\n",
    "\n",
    "dataset = fo.Dataset.from_images_dir(\"./data/keyframes\", name=None, tags=None, recursive=True)\n",
    "session = fo.launch_app(dataset, desktop=False)\n",
    "session.wait()"
   ]
  },
  {
   "cell_type": "markdown",
   "id": "6f7bfce4-c83e-43b3-8ec3-8e4ea3626d19",
   "metadata": {},
   "source": [
    "### Embeddings of videos are provided "
   ]
  },
  {
   "cell_type": "markdown",
   "id": "0dde3640-040f-431e-bd84-86b438caf2bc",
   "metadata": {},
   "source": [
    "Compute embeddings (if not provided)"
   ]
  },
  {
   "cell_type": "code",
   "execution_count": null,
   "id": "33456091-14eb-45e8-841e-2162d6e06a00",
   "metadata": {},
   "outputs": [
    {
     "name": "stdout",
     "output_type": "stream",
     "text": []
    },
    {
     "name": "stdout",
     "output_type": "stream",
     "text": [
      "   3% ||------------|  2065/72410 [1.7m elapsed, 58.7m remaining, 19.8 samples/s]   "
     ]
    }
   ],
   "source": [
    "model = foz.load_zoo_model(\"clip-vit-base32-torch\")\n",
    "embeddings = dataset.compute_embeddings(model)\n",
    "with open(\"./embeddings/keyframes.npy\", \"wb\") as f:\n",
    "    np.save(f, embeddings);"
   ]
  },
  {
   "cell_type": "markdown",
   "id": "c0257963-2b05-4fcf-b829-7d28f5c80f0e",
   "metadata": {},
   "source": [
    "Load embeddings"
   ]
  },
  {
   "cell_type": "code",
   "execution_count": null,
   "id": "3ed27fee-ed40-425f-8f6b-5e0bcfb131bc",
   "metadata": {},
   "outputs": [],
   "source": [
    "embeddings = np.load(\"./embeddings/keyframes.npy\")"
   ]
  },
  {
   "cell_type": "markdown",
   "id": "23470fa8-c3f6-40cf-99f8-ac1adaa63b98",
   "metadata": {},
   "source": [
    "Compute visualization using embeddings"
   ]
  },
  {
   "cell_type": "code",
   "execution_count": null,
   "id": "f5e7c0c5-d5c3-431d-9ca6-de4ef6e160e2",
   "metadata": {
    "scrolled": true
   },
   "outputs": [],
   "source": [
    "results = fob.compute_visualization(\n",
    "    dataset, \n",
    "    embeddings=embeddings, \n",
    "    seed=51, \n",
    "    brain_key=\"img_viz\"\n",
    ")"
   ]
  },
  {
   "cell_type": "markdown",
   "id": "efe64839-1695-433a-9140-753c4460944e",
   "metadata": {},
   "source": [
    "Compute similarity (used to sort by similarity or query by text)"
   ]
  },
  {
   "cell_type": "code",
   "execution_count": null,
   "id": "add4766d-c206-4a92-9e00-1a270d9706e2",
   "metadata": {
    "scrolled": true
   },
   "outputs": [],
   "source": [
    "image_index = fob.compute_similarity(\n",
    "    dataset,\n",
    "    model=\"clip-vit-base32-torch\", \n",
    "    embeddings=embeddings,       \n",
    "    brain_key=\"img_sim\",\n",
    ")"
   ]
  }
 ],
 "metadata": {
  "kernelspec": {
   "display_name": "Python 3 (ipykernel)",
   "language": "python",
   "name": "python3"
  },
  "language_info": {
   "codemirror_mode": {
    "name": "ipython",
    "version": 3
   },
   "file_extension": ".py",
   "mimetype": "text/x-python",
   "name": "python",
   "nbconvert_exporter": "python",
   "pygments_lexer": "ipython3",
   "version": "3.10.12"
  }
 },
 "nbformat": 4,
 "nbformat_minor": 5
}
