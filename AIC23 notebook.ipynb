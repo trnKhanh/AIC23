{
 "cells": [
  {
   "cell_type": "markdown",
   "id": "3af8430d-e454-46ea-94f9-8e3dffeff4d7",
   "metadata": {},
   "source": [
    "# AIC23\n",
    "## Fiftyone example"
   ]
  },
  {
   "cell_type": "code",
   "execution_count": null,
   "id": "fda834fa-32bf-415f-a5e4-5f575bd695f1",
   "metadata": {},
   "outputs": [],
   "source": [
    "import fiftyone as fo\n",
    "import fiftyone.zoo as foz\n",
    "\n",
    "dataset = foz.load_zoo_dataset(\"quickstart\")\n",
    "session = fo.launch_app(dataset)\n",
    "\n",
    "session.wait()"
   ]
  }
 ],
 "metadata": {
  "kernelspec": {
   "display_name": "Python 3 (ipykernel)",
   "language": "python",
   "name": "python3"
  },
  "language_info": {
   "codemirror_mode": {
    "name": "ipython",
    "version": 3
   },
   "file_extension": ".py",
   "mimetype": "text/x-python",
   "name": "python",
   "nbconvert_exporter": "python",
   "pygments_lexer": "ipython3",
   "version": "3.10.12"
  }
 },
 "nbformat": 4,
 "nbformat_minor": 5
}
